{
 "cells": [
  {
   "cell_type": "markdown",
   "metadata": {},
   "source": [
    "1Q) Write a Python program to do the following :- \n",
    "Take two numbers from the user in separate inputs. and then perform addition, subtraction, multiplication and division calculations on 2 numbers.\n",
    "Consider possibility of input errors (i.e. divisor is 0? user entered string instead of numbers? user entered float?) Use try and except to handle the 2 exceptions by outputting statements that indicates related errors. "
   ]
  },
  {
   "cell_type": "code",
   "execution_count": null,
   "metadata": {},
   "outputs": [
    {
     "name": "stdout",
     "output_type": "stream",
     "text": [
      "Addition result: 1.0 + 2.0 = 3.0\n",
      "Subtraction result: 1.0 - 2.0 = -1.0\n",
      "Multiplication result: 1.0 * 2.0 = 2.0\n",
      "Division result: 1.0 / 2.0 = 0.5\n"
     ]
    }
   ],
   "source": [
    "## 1A)\n",
    "\n",
    "try:\n",
    "    # Take user input for the first number\n",
    "    num1 = float(input(\"Enter the first number: \"))\n",
    "\n",
    "    # Take user input for the second number\n",
    "    num2 = float(input(\"Enter the second number: \"))\n",
    "\n",
    "    # To Perform addition\n",
    "    addition_result = num1 + num2\n",
    "    print(f\"Addition result: {num1} + {num2} = {addition_result}\")\n",
    "\n",
    "    # To Perform subtraction\n",
    "    subtraction_result = num1 - num2\n",
    "    print(f\"Subtraction result: {num1} - {num2} = {subtraction_result}\")\n",
    "\n",
    "    # To Perform multiplication\n",
    "    multiplication_result = num1 * num2\n",
    "    print(f\"Multiplication result: {num1} * {num2} = {multiplication_result}\")\n",
    "\n",
    "    # Check for division by zero\n",
    "    if num2 == 0:\n",
    "        raise ZeroDivisionError(\"Division by zero is not allowed\")\n",
    "\n",
    "    # To Perform division\n",
    "    division_result = num1 / num2\n",
    "    print(f\"Division result: {num1} / {num2} = {division_result}\")\n",
    "\n",
    "except ValueError as ve:\n",
    "    print(f\"Input error: {ve}\")\n",
    "except ZeroDivisionError as zdve:\n",
    "    print(f\"Zero division error: {zdve}\")\n"
   ]
  },
  {
   "cell_type": "markdown",
   "metadata": {},
   "source": []
  },
  {
   "cell_type": "markdown",
   "metadata": {},
   "source": [
    "2Q)Look at the python script from the following link - survey.py Download survey.py, draw a diagram (like we did in slides for Person, MITPerson etc.) that shows the hierarchy of the classes in the code. (3 points) This can be done in any drawing program and attached as a PDF, Word doc or using a common graphics format link png or jpeg. Or you can create by hand and scan it - if you can find a scanner.\n",
    "\n",
    "Ans:- \n",
    "please find the attachment."
   ]
  },
  {
   "cell_type": "markdown",
   "metadata": {},
   "source": [
    "3Q) Look at the same python script from question 2, find the class: Pregnancies, how many functions are in it and list them as marldown in .ipynb file. \n",
    "\n",
    "Ans:-\n",
    "Functions in the Pregnancies Class:-\n",
    "ReadRecords(self, data_dir='.', n=None): This function reads pregnancy records from a data file and constructs objects of the Pregnancy class based on the specified fields. It takes two optional arguments: data_dir (directory where the data file is located) and n (number of records to read).\n",
    "\n",
    "Recode(self): This function recodes certain values within the pregnancy records, such as dividing the mother's age by 100 and converting the weight at birth from pounds and ounces to total ounces."
   ]
  },
  {
   "cell_type": "markdown",
   "metadata": {},
   "source": [
    "4Q) Write a function that returns the mean of a list that is passed as formal argument to a function. Create a list with values [10, 56.7, 56, 89, 100, 99, 87.5, 34, 985, 10] and pass it to the above defined function. Print the mean of the list of values."
   ]
  },
  {
   "cell_type": "code",
   "execution_count": 2,
   "metadata": {},
   "outputs": [
    {
     "name": "stdout",
     "output_type": "stream",
     "text": [
      "Mean of the list: 152.72\n"
     ]
    }
   ],
   "source": [
    "## 4A) \n",
    "\n",
    "def calculate_mean(value_list):\n",
    "    if not value_list:\n",
    "        return 0  # Handle the case of an empty list to avoid division by zero\n",
    "    total = sum(value_list)\n",
    "    mean = total / len(value_list)\n",
    "    return mean\n",
    "\n",
    "# Create a list of values\n",
    "values_list = [10, 56.7, 56, 89, 100, 99, 87.5, 34, 985, 10]\n",
    "\n",
    "# Calculate the mean of the list\n",
    "mean_value = calculate_mean(values_list)\n",
    "\n",
    "# Print the mean\n",
    "print(f\"Mean of the list: {mean_value:.2f}\")\n"
   ]
  },
  {
   "cell_type": "markdown",
   "metadata": {},
   "source": [
    "5Q) Add a breakpoint to the mean function (created in question 4) such that the interactive console of pdb can be used to look at the values of mean after each item in the list is calculated. Only the updated code is required. You do not need to save your pdb console session. "
   ]
  },
  {
   "cell_type": "code",
   "execution_count": null,
   "metadata": {},
   "outputs": [],
   "source": [
    "## 5A) \n",
    "import pdb  # Import the pdb module\n",
    "\n",
    "# Define the mean function with a breakpoint\n",
    "def mean(values):\n",
    "    total = 0\n",
    "    count = 0\n",
    "    for val in values:\n",
    "        total += val\n",
    "        count += 1\n",
    "        mean = total / count\n",
    "        pdb.set_trace()  # Set a breakpoint here to enter the pdb interactive console\n",
    "    return mean\n",
    "\n",
    "# Create a list of values\n",
    "values_list = [10, 56.7, 56, 89, 100, 99, 87.5, 34, 985, 10]\n",
    "\n",
    "# Call the mean function with the list\n",
    "result = mean(values_list)\n",
    "\n",
    "# Print the mean value\n",
    "print(f\"Mean of the list: {result:.2f}\")"
   ]
  },
  {
   "cell_type": "markdown",
   "metadata": {},
   "source": [
    "6Q) Implement the class hierarchy shown below in a Python program that does the following:-\n",
    "\n",
    "Use Shape as the abstract base class with abstract method called area.\n",
    "Implement area method in Circle, Rectangle and Polygon subclasses by using appropriate types, return values (assume Polygon implements a regular simple polygon.\n",
    "\n",
    "Write code that creates objects of the three subclasses and uses the area method to print the area of the shapes by passing any values of your choice:-"
   ]
  },
  {
   "cell_type": "code",
   "execution_count": null,
   "metadata": {},
   "outputs": [
    {
     "name": "stdout",
     "output_type": "stream",
     "text": [
      "Area of the circle: 78.54\n",
      "Area of the rectangle: 24.00\n",
      "Area of the polygon: 127.31\n"
     ]
    }
   ],
   "source": [
    "## 6A) \n",
    "\n",
    "import abc\n",
    "import math\n",
    "\n",
    "# Define the abstract base class 'Shape'\n",
    "class Shape(abc.ABC):\n",
    "    @abc.abstractmethod\n",
    "    def area(self):\n",
    "        pass\n",
    "\n",
    "# Define the 'Circle' subclass\n",
    "class Circle(Shape):\n",
    "    def __init__(self, radius):\n",
    "        self.radius = radius\n",
    "\n",
    "    def area(self):\n",
    "        return math.pi * self.radius ** 2\n",
    "\n",
    "# Define the 'Rectangle' subclass\n",
    "class Rectangle(Shape):\n",
    "    def __init__(self, length, width):\n",
    "        self.length = length\n",
    "        self.width = width\n",
    "\n",
    "    def area(self):\n",
    "        return self.length * self.width\n",
    "\n",
    "# Define the 'Polygon' subclass (assuming it's a regular simple polygon)\n",
    "class Polygon(Shape):\n",
    "    def __init__(self, num_sides, side_length):\n",
    "        self.num_sides = num_sides\n",
    "        self.side_length = side_length\n",
    "\n",
    "    def area(self):\n",
    "        return (self.num_sides * self.side_length ** 2) / (4 * math.tan(math.pi / self.num_sides))\n",
    "\n",
    "# Create objects and calculate areas\n",
    "circle = Circle(5)\n",
    "rectangle = Rectangle(4, 6)\n",
    "polygon = Polygon(6, 7)\n",
    "\n",
    "# Calculate and print the areas\n",
    "print(f\"Area of the circle: {circle.area():.2f}\")\n",
    "print(f\"Area of the rectangle: {rectangle.area():.2f}\")\n",
    "print(f\"Area of the polygon: {polygon.area():.2f}\")\n"
   ]
  }
 ],
 "metadata": {
  "kernelspec": {
   "display_name": "Python 3",
   "language": "python",
   "name": "python3"
  },
  "language_info": {
   "codemirror_mode": {
    "name": "ipython",
    "version": 3
   },
   "file_extension": ".py",
   "mimetype": "text/x-python",
   "name": "python",
   "nbconvert_exporter": "python",
   "pygments_lexer": "ipython3",
   "version": "3.11.5"
  },
  "orig_nbformat": 4
 },
 "nbformat": 4,
 "nbformat_minor": 2
}
