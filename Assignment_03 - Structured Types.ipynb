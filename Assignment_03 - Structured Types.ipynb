{
 "cells": [
  {
   "cell_type": "code",
   "execution_count": 13,
   "metadata": {},
   "outputs": [
    {
     "name": "stdout",
     "output_type": "stream",
     "text": [
      "Product of integers in the given list: 20044.332000000002\n"
     ]
    }
   ],
   "source": [
    "# 1Q) To Write a python function which calculates the product of all integers in a list. \n",
    "#     Write additional statements that calls this function and passes the list\n",
    "\n",
    "def product_of_integers(lst):\n",
    "    \n",
    "    result = 1  # as 1 is multiplicative identity\n",
    "    for num in lst:\n",
    "         # Check if the element is an integer\n",
    "            result *= num  # Multiply the result by the integer\n",
    "    return result\n",
    "\n",
    "# given list\n",
    "g_list = [3, 4, 5, 6, 5.5, 10.1234]\n",
    "\n",
    "# Calculating the product of integers from the given list\n",
    "product = product_of_integers(g_list)\n",
    "\n",
    "# Print the result\n",
    "print(\"Product of integers in the given list:\", product)\n"
   ]
  },
  {
   "cell_type": "code",
   "execution_count": 14,
   "metadata": {},
   "outputs": [
    {
     "name": "stdout",
     "output_type": "stream",
     "text": [
      "informatics\n",
      "spring\n",
      "semester\n",
      "I501\n",
      "2018\n",
      "63\n",
      "students\n"
     ]
    }
   ],
   "source": [
    "# 2Q) To Create a tuple with the values – (informatics, spring, semester, I501, 2018, 63, students) and print each value using for loop.\n",
    "\n",
    "# Creating the tuple with values\n",
    "given_tuple = ('informatics', 'spring', 'semester', 'I501', 2018, 63, 'students')\n",
    "\n",
    "# Iterate over the tuple and print each value\n",
    "for value in given_tuple:\n",
    "    print(value)\n"
   ]
  },
  {
   "cell_type": "code",
   "execution_count": 15,
   "metadata": {},
   "outputs": [
    {
     "name": "stdout",
     "output_type": "stream",
     "text": [
      "Value Equality: False\n",
      "Object Equality: False\n",
      "ID of l1: 4571028352\n",
      "ID of l2: 4578020160\n"
     ]
    }
   ],
   "source": [
    "# 3Q) l1= ['student','math','skills']\n",
    "#     l2 =['student','python','script']\n",
    "#     for the given lists, show the value equality, object equality and print id for each of the lists.\n",
    "\n",
    "l1 = ['student', 'math', 'skills']\n",
    "l2 = ['student', 'python', 'script']\n",
    "\n",
    "# Value equality & Object equality comparison\n",
    "value_equal = l1 == l2\n",
    "object_equal = l1 is l2\n",
    "\n",
    "# Print IDs of the lists\n",
    "id_l1 = id(l1)\n",
    "id_l2 = id(l2)\n",
    "\n",
    "print(\"Value Equality:\", value_equal)\n",
    "print(\"Object Equality:\", object_equal)\n",
    "print(\"ID of l1:\", id_l1)\n",
    "print(\"ID of l2:\", id_l2)\n"
   ]
  },
  {
   "cell_type": "code",
   "execution_count": 16,
   "metadata": {},
   "outputs": [
    {
     "name": "stdout",
     "output_type": "stream",
     "text": [
      "Modified list1: ['andy', 'john', 'kim', 'paul', 'sam', 'smith']\n"
     ]
    }
   ],
   "source": [
    "# 4Q) list1 = ['smith', 'john', 'andy'] \n",
    "#     list2 = ['kim', 'mary', 'paul']\n",
    "# Write a python program which does the following: \n",
    "# a. add items in list2 to list\n",
    "# b. Remove mary from list \n",
    "# c. Insert sam at 5th position\n",
    "# d. Sort the elements of list1 in ascending order\n",
    "\n",
    "# Initial lists\n",
    "list1 = ['smith', 'john', 'andy']\n",
    "list2 = ['kim', 'mary', 'paul']\n",
    "\n",
    "# a. Add items in list2 to list1\n",
    "list1.extend(list2)\n",
    "\n",
    "# b. Remove 'mary' from list1\n",
    "if 'mary' in list1:\n",
    "    list1.remove('mary')\n",
    "\n",
    "# c. Insert 'sam' at the 5th position\n",
    "list1.insert(4, 'sam')\n",
    "\n",
    "# d. Sort the elements of list1 in ascending order\n",
    "list1.sort()\n",
    "\n",
    "# Print the modified list1\n",
    "print(\"Modified list1:\", list1)\n"
   ]
  },
  {
   "cell_type": "code",
   "execution_count": 17,
   "metadata": {},
   "outputs": [
    {
     "name": "stdout",
     "output_type": "stream",
     "text": [
      "List of words: ['This', 'is', 'Venkat']\n"
     ]
    }
   ],
   "source": [
    "# 5Q) Write a python program that asks the user to enter a sentence and creates a list of words in that sentence\n",
    "\n",
    "# Ask the user to enter a sentence\n",
    "sentence = input(\"Enter a sentence: \")\n",
    "\n",
    "# Split the sentence into a list of words\n",
    "words = sentence.split()\n",
    "\n",
    "# Print the list of words\n",
    "print(\"List of words:\", words)\n"
   ]
  },
  {
   "cell_type": "code",
   "execution_count": 18,
   "metadata": {},
   "outputs": [
    {
     "name": "stdout",
     "output_type": "stream",
     "text": [
      "a) Number of times 'andy' appears: 3\n",
      "b) Tuple after changing 'sam' to 'smith': ('smith', 'andy', 'mary', 'andy', 'john', 'andy', 'mary')\n",
      "c) Index of 'john': 4\n"
     ]
    }
   ],
   "source": [
    "# 6Q) friends = ('sam','andy','mary','andy','john','andy','mary')  \n",
    "# Write a python program which does the following: \n",
    "# a) for the above string calculate the number of times \"andy\" appears in the tuple\n",
    "# b) change sam with smith\n",
    "# c) print index of john\n",
    "\n",
    "# Given tuple\n",
    "friends = ('sam', 'andy', 'mary', 'andy', 'john', 'andy', 'mary')\n",
    "\n",
    "# a. Calculate the number of times \"andy\" appears in the tuple\n",
    "andy_count = friends.count('andy')\n",
    "\n",
    "# b. Change 'sam' with 'smith'\n",
    "friends_list = list(friends)\n",
    "if 'sam' in friends_list:\n",
    "    sam_index = friends_list.index('sam')\n",
    "    friends_list[sam_index] = 'smith'\n",
    "friends = tuple(friends_list)\n",
    "\n",
    "# c. Print the index of 'john'\n",
    "john_index = friends.index('john')\n",
    "\n",
    "# Print the results\n",
    "print(\"a) Number of times 'andy' appears:\", andy_count)\n",
    "print(\"b) Tuple after changing 'sam' to 'smith':\", friends)\n",
    "print(\"c) Index of 'john':\", john_index)\n"
   ]
  },
  {
   "cell_type": "code",
   "execution_count": 19,
   "metadata": {},
   "outputs": [
    {
     "name": "stdout",
     "output_type": "stream",
     "text": [
      "a) All keys: ['data1', 'data2', 'data3', 'data4', 'data5', 'data6']\n",
      "b) All values: [100, 54, 247, 100, 54, 247]\n",
      "c) Length of the dictionary: 6\n"
     ]
    }
   ],
   "source": [
    "# 7Q) dict = {'data1':100,'data2':54,'data3':247, 'data4':100,'data5':54,'data6':247} \n",
    "#     for the given dictionary, write a program that does the following (3 points):\n",
    "#     a) print all keys      b)  print all values     c) calculate length\n",
    "\n",
    "# Given dictionary\n",
    "my_dict = {'data1': 100, 'data2': 54, 'data3': 247, 'data4': 100, 'data5': 54, 'data6': 247}\n",
    "\n",
    "# a) Print all keys\n",
    "print(\"a) All keys:\", list(my_dict.keys()))\n",
    "\n",
    "# b) Print all values\n",
    "print(\"b) All values:\", list(my_dict.values()))\n",
    "\n",
    "# c) Calculate the length of the dictionary\n",
    "length = len(my_dict)\n",
    "print(\"c) Length of the dictionary:\", length)\n"
   ]
  },
  {
   "cell_type": "code",
   "execution_count": 20,
   "metadata": {},
   "outputs": [
    {
     "name": "stdout",
     "output_type": "stream",
     "text": [
      "Decrypted Message:\n",
      "windmills. knight, [Not found] [Not found] [Not found] the [Not found] the It [Not found] stormy knight, It was stormy [Not found] was stormy It windmills. knight, [Not found] [Not found] [Not found] the [Not found] the It [Not found] stormy [Not found] night the\n"
     ]
    }
   ],
   "source": [
    "# 8Q) Extend the decrytion example to decrypt a series of codes using the book 'Don Quixote'. \n",
    "# The string to decrypt is 22*13*33*137*59*11*23*11*1*57*6*13*1*2*6*57*2*6*1*22*13*33*137*59*11*23*11*1*57*6*173*7*11\n",
    "\n",
    "# Define the book passage\n",
    "book_passage = \"It was a dark and stormy night when Don Quixote, the valiant knight, set out on his noble quest to fight windmills.\"\n",
    "\n",
    "# Split the passage into words\n",
    "book_words = book_passage.split()\n",
    "\n",
    "# Define the encrypted code\n",
    "encrypted_code = \"22*13*33*137*59*11*23*11*1*57*6*13*1*2*6*57*2*6*1*22*13*33*137*59*11*23*11*1*57*6*173*7*11\"\n",
    "\n",
    "# Split the code into numbers\n",
    "code_numbers = encrypted_code.split(\"*\")\n",
    "\n",
    "# Initialize an empty list to store decrypted words\n",
    "decrypted_words = []\n",
    "\n",
    "# Decrypt the code\n",
    "for number in code_numbers:\n",
    "    index = int(number) - 1  # Subtract 1 to match Python's 0-based indexing\n",
    "    if 0 <= index < len(book_words):\n",
    "        decrypted_word = book_words[index]\n",
    "        decrypted_words.append(decrypted_word)\n",
    "    else:\n",
    "        decrypted_words.append(\"[Not found]\")\n",
    "\n",
    "# Join the decrypted words to form the decrypted message\n",
    "decrypted_message = \" \".join(decrypted_words)\n",
    "\n",
    "# Print the decrypted message\n",
    "print(\"Decrypted Message:\")\n",
    "print(decrypted_message)\n"
   ]
  }
 ],
 "metadata": {
  "kernelspec": {
   "display_name": "Python 3",
   "language": "python",
   "name": "python3"
  },
  "language_info": {
   "codemirror_mode": {
    "name": "ipython",
    "version": 3
   },
   "file_extension": ".py",
   "mimetype": "text/x-python",
   "name": "python",
   "nbconvert_exporter": "python",
   "pygments_lexer": "ipython3",
   "version": "3.11.5"
  },
  "orig_nbformat": 4
 },
 "nbformat": 4,
 "nbformat_minor": 2
}
