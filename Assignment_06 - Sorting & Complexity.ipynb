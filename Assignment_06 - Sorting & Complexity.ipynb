{
 "cells": [
  {
   "cell_type": "markdown",
   "metadata": {},
   "source": [
    "1Q) A simple sorting algorithm is called a \"Bubble Sort\" because elements bubble around through the list. It is also called a \"Sinking Sort\" because the larger values \"sink\" to the end (bottom) of the list. A bubble sort iterates through a list and swaps adjacent pairs if they are in the wrong order. The sort continues until all elements are correctly ordered.\n",
    "\n",
    "Example: bubbleSort([0, 1, 8, 4, 3, 2, 9]) - as it begins to process will compare 0 and one and make no change, then 1 and 8 again no change, then 8 and 4 and swap them. This process would repeat until we get [0,1,2,3,4,8,9]\n",
    "\n",
    "Are there any improvements you can make of the basic implementation?"
   ]
  },
  {
   "cell_type": "markdown",
   "metadata": {},
   "source": [
    "Ans) \n",
    "\n",
    "You can enhance the basic bubble sort algorithm by optimizing the inner loop. In the basic implementation, the inner loop always iterates through all elements, even when the list is partially sorted. By maintaining a record of whether any swaps occurred in the prior pass, you can streamline the inner loop. If no swaps transpired, it implies the list is already sorted, enabling an early exit from the loop."
   ]
  },
  {
   "cell_type": "code",
   "execution_count": 1,
   "metadata": {},
   "outputs": [
    {
     "name": "stdout",
     "output_type": "stream",
     "text": [
      "Sorted array: [0, 1, 2, 3, 4, 8, 9]\n"
     ]
    }
   ],
   "source": [
    "# Basic Implementation :-\n",
    "def bubble_sort(arr):\n",
    "    n = len(arr)\n",
    "    \n",
    "    for i in range(n):\n",
    "        for j in range(0, n-i-1):\n",
    "            if arr[j] > arr[j+1]:\n",
    "                arr[j], arr[j+1] = arr[j+1], arr[j]\n",
    "\n",
    "# Example :\n",
    "arr = [0, 1, 8, 4, 3, 2, 9]\n",
    "bubble_sort(arr)\n",
    "print(\"Sorted array:\", arr)"
   ]
  },
  {
   "cell_type": "code",
   "execution_count": 2,
   "metadata": {},
   "outputs": [
    {
     "name": "stdout",
     "output_type": "stream",
     "text": [
      "[0, 1, 2, 3, 4, 8, 9]\n"
     ]
    }
   ],
   "source": [
    "# Optimized bubble sort implementation after Improvements:-\n",
    "def bubble_sort(arr):\n",
    "    n = len(arr)\n",
    "    \n",
    "    for i in range(n):\n",
    "        # Flag to optimize the algorithm\n",
    "        swapped = False\n",
    "        \n",
    "        # Traverse the list from 0 to n-i-1\n",
    "        for j in range(0, n-i-1):\n",
    "            # Swap if the element found is greater\n",
    "            # than the next element\n",
    "            if arr[j] > arr[j+1]:\n",
    "                arr[j], arr[j+1] = arr[j+1], arr[j]\n",
    "                swapped = True\n",
    "                \n",
    "        # If no two elements were swapped in the inner loop,\n",
    "        # the array is already sorted, and we can break\n",
    "        if not swapped:\n",
    "            break\n",
    "\n",
    "# Example usage:\n",
    "arr = [0, 1, 8, 4, 3, 2, 9]\n",
    "bubble_sort(arr)\n",
    "print(arr)  # Output: [0, 1, 2, 3, 4, 8, 9]\n"
   ]
  },
  {
   "cell_type": "markdown",
   "metadata": {},
   "source": [
    "Bubble Sort, a basic sorting method, can be enhanced in several ways:\n",
    "\n",
    "1) Optimized Bubble Sort: Reduce unnecessary iterations by checking if swaps are needed during each pass.\n",
    "2) Cocktail Shaker Sort (Bidirectional Bubble Sort): Sort in both directions, which can be more efficient when small elements are at both ends of the list.\n",
    "3) Comb Sort: Use a larger gap between elements and shrink it with each pass for faster sorting.\n",
    "4) Odd-Even Sort: Divide the list into odd and even sublists for parallel processing.\n",
    "5) Shaker Sort: Similar to Cocktail Shaker Sort but with a more efficient stopping point determination.\n",
    "\n",
    "However, these improvements still leave Bubble Sort less efficient than other sorting algorithms like Merge Sort, Quick Sort, and Tim Sort, especially for larger datasets\n"
   ]
  },
  {
   "cell_type": "markdown",
   "metadata": {},
   "source": [
    "2Q) Determine the Computational Complexity of your implementation"
   ]
  },
  {
   "cell_type": "markdown",
   "metadata": {},
   "source": [
    "Time Complexity:- \n",
    "\n",
    "Bubble Sort has a worst-case time complexity of O(n^2), where 'n' represents the number of elements in the input list. This is due to the algorithm potentially performing a quadratic number of comparisons and swaps in the worst-case scenario, as it checks and potentially rearranges each adjacent pair of elements during each pass through the list.\n",
    "\n",
    "Best-Case Time Complexity:-\n",
    "\n",
    "When the input list is already sorted, Bubble Sort exhibits its best-case time complexity, which is O(n). In this scenario, the algorithm only needs to make a single pass through the list to confirm that no further swaps are necessary.\n",
    "\n",
    "Average-Case Time Complexity:-\n",
    "On average, Bubble Sort maintains an O(n^2) time complexity. This is because, in an average situation, it will require a quadratic number of comparisons and swaps to arrange the elements in the desired order.\n",
    "\n",
    "Space Complexity: Bubble Sort operates in-place, meaning it doesn't require additional memory allocation proportional to the input size. Therefore, its space complexity is O(1).\n",
    "\n",
    "In summary, Bubble Sort is not the most efficient sorting algorithm, particularly for larger datasets, given its quadratic time complexity. Other sorting algorithms like Merge Sort or Quick Sort, with better average and worst-case time complexities, are generally preferred for larger datasets."
   ]
  }
 ],
 "metadata": {
  "kernelspec": {
   "display_name": "Python 3",
   "language": "python",
   "name": "python3"
  },
  "language_info": {
   "codemirror_mode": {
    "name": "ipython",
    "version": 3
   },
   "file_extension": ".py",
   "mimetype": "text/x-python",
   "name": "python",
   "nbconvert_exporter": "python",
   "pygments_lexer": "ipython3",
   "version": "3.11.5"
  },
  "orig_nbformat": 4
 },
 "nbformat": 4,
 "nbformat_minor": 2
}
