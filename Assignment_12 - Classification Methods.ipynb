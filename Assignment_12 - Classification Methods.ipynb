{
 "cells": [
  {
   "cell_type": "raw",
   "metadata": {},
   "source": [
    "1A) Considering height as the dependent variable perform linear regression on the brain_size.csv Download brain_size.csv data and predict the height for the following new feature set. (Logistic regression is a special case of linear regression. Check out sklearn.linear_model for more information)\n",
    "\n",
    "+-----------+-------+-------+-------+-----------+-----------+-----------+\n",
    "| Gender    | FSIQ  | VIQ\t| PIQ\t| Weight\t| Height\t| MRI_Count |\n",
    "+-----------+-------+-------+-------+-----------+-----------+-----------+\n",
    "| Female\t| 198\t| 260\t| 210\t| 102.2\t\t|\t        | 1222346   |\n",
    "+-----------+-------+-------+-------+-----------+-----------+-----------+"
   ]
  },
  {
   "cell_type": "code",
   "execution_count": 1,
   "metadata": {},
   "outputs": [
    {
     "name": "stdout",
     "output_type": "stream",
     "text": [
      "   Unnamed: 0  Gender  FSIQ  VIQ  PIQ Weight Height  MRI_Count\n",
      "0           1  Female   133  132  124    118   64.5     816932\n",
      "1           2    Male   140  150  124      .   72.5    1001121\n",
      "2           3    Male   139  123  150    143   73.3    1038437\n",
      "3           4    Male   133  129  128    172   68.8     965353\n",
      "4           5  Female   137  132  134    147   65.0     951545\n",
      "\n",
      "Height of new feature set:  45.1\n"
     ]
    }
   ],
   "source": [
    "# Import necessary libraries\n",
    "import pandas as pd\n",
    "from sklearn import linear_model\n",
    "import numpy as np\n",
    "\n",
    "# Read the brain size CSV file\n",
    "data = pd.read_csv(\"/Users/tbs/Downloads/brain_size (1).csv\",delimiter=\";\")\n",
    "\n",
    "# Print the first few rows of the data\n",
    "print(data.head())\n",
    "\n",
    "# Remove rows with missing values in the Weight column\n",
    "data = data[data['Weight'] != '.']\n",
    "\n",
    "# Replace Female and Male with 0 and 1, respectively\n",
    "data['Gender'].replace(['Female', 'Male'], [0, 1], inplace = True)\n",
    "\n",
    "# Create the X and y matrices for the linear regression model\n",
    "X = data[['Gender','FSIQ', 'VIQ', 'PIQ', 'Weight', 'MRI_Count']]\n",
    "y = data['Height']\n",
    "\n",
    "# Create a linear regression model\n",
    "model = linear_model.LinearRegression()\n",
    "\n",
    "# Fit the model to the data\n",
    "model.fit(X.values, y.values)\n",
    "\n",
    "# Create a new feature set and predict the height\n",
    "predictionResults = model.predict([[0, 198, 260, 210, 102.2, 1222346]])\n",
    "predictedHeight = round(predictionResults[0], 1)\n",
    "\n",
    "# Print the predicted height\n",
    "print()\n",
    "print('Height of new feature set: ', predictedHeight)\n"
   ]
  },
  {
   "cell_type": "raw",
   "metadata": {},
   "source": [
    "1B) Now considering gender as dependent variable perform logistic regression and predict the gender for the following feature set.\n",
    "\n",
    "+-----------+-------+-------+-------+-----------+-----------+-----------+\n",
    "| Gender    | FSIQ  | VIQ\t| PIQ\t| Weight\t| Height\t| MRI_Count |\n",
    "+-----------+-------+-------+-------+-----------+-----------+-----------+\n",
    "|       \t| 198\t| 260\t| 210\t| 102.2\t\t| 45.1      | 1222346   |\n",
    "+-----------+-------+-------+-------+-----------+-----------+-----------+"
   ]
  },
  {
   "cell_type": "code",
   "execution_count": 3,
   "metadata": {},
   "outputs": [
    {
     "name": "stdout",
     "output_type": "stream",
     "text": [
      "   Unnamed: 0  Gender  FSIQ  VIQ  PIQ Weight Height  MRI_Count\n",
      "0           1  Female   133  132  124    118   64.5     816932\n",
      "1           2    Male   140  150  124      .   72.5    1001121\n",
      "2           3    Male   139  123  150    143   73.3    1038437\n",
      "3           4    Male   133  129  128    172   68.8     965353\n",
      "4           5  Female   137  132  134    147   65.0     951545\n",
      "\n",
      "New feature Gender is: Female\n"
     ]
    }
   ],
   "source": [
    "# Import necessary libraries\n",
    "from sklearn import linear_model\n",
    "import pandas as pd\n",
    "import numpy as np\n",
    "\n",
    "# Read the brain size CSV file\n",
    "data = pd.read_csv(\"/Users/tbs/Downloads/brain_size (1).csv\",delimiter=\";\")\n",
    "\n",
    "# Print the first few rows of the data\n",
    "print(data.head())\n",
    "\n",
    "# Clean the data by removing rows with missing values in the Weight column\n",
    "data = data[data['Weight'] != '.']\n",
    "\n",
    "# Replace Female and Male with 0 and 1, respectively\n",
    "data['Gender'].replace(['Female', 'Male'], [0, 1], inplace = True)\n",
    "\n",
    "# Create the X and Y matrices for the logistic regression model\n",
    "X = data[['FSIQ', 'VIQ', 'PIQ', 'Weight', 'Height', 'MRI_Count']]\n",
    "Y = data['Gender']\n",
    "\n",
    "# Create a logistic regression model\n",
    "model = linear_model.LogisticRegression()\n",
    "\n",
    "# Fit the model to the data\n",
    "model.fit(X.values, Y.values)\n",
    "\n",
    "# Predict the gender of a new feature set\n",
    "predictedGender = model.predict([[198, 260, 210, 102.2, 45.1, 1222346]])\n",
    "\n",
    "# Print the predicted gender\n",
    "print(\"\\nNew feature Gender is:\", 'Female' if predictedGender == 0 else 'Male')\n"
   ]
  },
  {
   "cell_type": "markdown",
   "metadata": {},
   "source": [
    "2A) Perform the following hypothesis testing for the below null hypothesis on the data from brain_size.csv Download brain_size.csv:\n",
    "    The null hypothesis is that the weight data is normally distributed."
   ]
  },
  {
   "cell_type": "code",
   "execution_count": 4,
   "metadata": {},
   "outputs": [
    {
     "name": "stdout",
     "output_type": "stream",
     "text": [
      "Shapiro-Wilk Test Statistic: 0.9601486325263977\n",
      "P-value: 0.19196325540542603\n",
      "Fail to reject the null hypothesis. The weight data appears to be normally distributed.\n"
     ]
    }
   ],
   "source": [
    "# Null Hypothesis: The weight data is normally distributed. Performing the Shapiro-Wilk test for normality.\n",
    "\n",
    "# Import necessary libraries\n",
    "import pandas as pd\n",
    "from scipy.stats import shapiro\n",
    "\n",
    "# Read the brain size CSV file\n",
    "data = pd.read_csv(\"/Users/tbs/Downloads/brain_size (1).csv\",delimiter=\";\")\n",
    "\n",
    "# Convert the Weight column to numeric and drop any rows with missing values\n",
    "data['Weight'] = pd.to_numeric(data['Weight'], errors='coerce')\n",
    "data = data.dropna(subset=['Weight'])\n",
    "\n",
    "# Extract the weight data\n",
    "weight_data = data['Weight']\n",
    "\n",
    "# Perform the Shapiro-Wilk test for normality\n",
    "stat, p_value = shapiro(weight_data)\n",
    "\n",
    "# Print the test statistic and p-value\n",
    "print(\"Shapiro-Wilk Test Statistic:\", stat)\n",
    "print(\"P-value:\", p_value)\n",
    "\n",
    "# Set the significance level\n",
    "alpha = 0.05\n",
    "\n",
    "# Interpret the results of the test\n",
    "if p_value > alpha:\n",
    "    print(\"Fail to reject the null hypothesis. The weight data appears to be normally distributed.\")\n",
    "else:\n",
    "    print(\"Reject the null hypothesis. The weight data does not appear to be normally distributed.\")\n"
   ]
  },
  {
   "cell_type": "markdown",
   "metadata": {},
   "source": [
    "2B) By using a non-parametric test, test the null hypothesis that the Verbal IQ (VIQ) is the not very different between males and females."
   ]
  },
  {
   "cell_type": "code",
   "execution_count": 5,
   "metadata": {},
   "outputs": [
    {
     "name": "stdout",
     "output_type": "stream",
     "text": [
      "\n",
      "Mann-Whitney U Test:\n",
      "Statistic: 214.0\n",
      "P-value: 0.32577163152981836\n",
      "Fail to reject the null hypothesis. VIQ does not appear to be significantly different between males and females.\n"
     ]
    }
   ],
   "source": [
    "# Null Hypothesis: The Verbal IQ (VIQ) is not significantly different between males and females. Performing a non-parametric test ( Mann-Whitney U test)\n",
    "\n",
    "from scipy.stats import mannwhitneyu\n",
    "\n",
    "# Extract the VIQ data for males and females\n",
    "viq_male = data[data['Gender'] == 'Male']['VIQ']\n",
    "viq_female = data[data['Gender'] == 'Female']['VIQ']\n",
    "\n",
    "# Perform the Mann-Whitney U test\n",
    "stat, p_value = mannwhitneyu(viq_male, viq_female, alternative='two-sided')\n",
    "\n",
    "# Print the test statistic and p-value\n",
    "print(\"\\nMann-Whitney U Test:\")\n",
    "print(f\"Statistic: {stat}\")\n",
    "print(f\"P-value: {p_value}\")\n",
    "\n",
    "# Set the significance level\n",
    "alpha = 0.05\n",
    "\n",
    "# Interpret the results of the test\n",
    "if p_value > alpha:\n",
    "    print(\"Fail to reject the null hypothesis. VIQ does not appear to be significantly different between males and females.\")\n",
    "else:\n",
    "    print(\"Reject the null hypothesis. VIQ appears to be significantly different between males and females.\")\n",
    "\n"
   ]
  }
 ],
 "metadata": {
  "kernelspec": {
   "display_name": "Python 3",
   "language": "python",
   "name": "python3"
  },
  "language_info": {
   "codemirror_mode": {
    "name": "ipython",
    "version": 3
   },
   "file_extension": ".py",
   "mimetype": "text/x-python",
   "name": "python",
   "nbconvert_exporter": "python",
   "pygments_lexer": "ipython3",
   "version": "3.11.5"
  }
 },
 "nbformat": 4,
 "nbformat_minor": 2
}
