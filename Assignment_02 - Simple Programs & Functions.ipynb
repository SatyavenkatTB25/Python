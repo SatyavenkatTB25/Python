{
 "cells": [
  {
   "cell_type": "code",
   "execution_count": 22,
   "metadata": {},
   "outputs": [
    {
     "name": "stdout",
     "output_type": "stream",
     "text": [
      "Type of input:  <class 'str'>\n",
      "Length of input:  6\n"
     ]
    }
   ],
   "source": [
    "# 1) program to ask the user to "
   ]
  },
  {
   "cell_type": "code",
   "execution_count": null,
   "metadata": {},
   "outputs": [],
   "source": [
    "input their name and then output the type and length of the input\n",
    "\n",
    "user_ip = input('Enter your name: ')\n",
    "print('Type of input: ', type(user_ip))\n",
    "print('Length of input: ', len(user_ip))"
   ]
  },
  {
   "cell_type": "code",
   "execution_count": 23,
   "metadata": {},
   "outputs": [
    {
     "name": "stdout",
     "output_type": "stream",
     "text": [
      "Informatics\n"
     ]
    }
   ],
   "source": [
    "# 2) program to print the output of last 11 letters of 'Introduction to Informatics'\n",
    "\n",
    "str = 'Introduction to Informatics'\n",
    "print(str[len(str)-11:])"
   ]
  },
  {
   "cell_type": "code",
   "execution_count": 24,
   "metadata": {},
   "outputs": [
    {
     "name": "stdout",
     "output_type": "stream",
     "text": [
      "troductio\n"
     ]
    }
   ],
   "source": [
    "# 3) program to print the output of 3rd to the 11th letters of 'Introduction to Informatics'\n",
    "\n",
    "str = 'Introduction to Informatics'\n",
    "print(str[2:11])"
   ]
  },
  {
   "cell_type": "code",
   "execution_count": 25,
   "metadata": {},
   "outputs": [
    {
     "name": "stdout",
     "output_type": "stream",
     "text": [
      "The last odd number entered is:  9\n"
     ]
    }
   ],
   "source": [
    "# 4) program that asks the user to input 10 integers, and then prints the last odd number that was entered. \n",
    "#    If no odd number is entered, it should print a message to that effect.\n",
    "\n",
    "last_odd = None\n",
    "for i in range(10):\n",
    "    num = int(input('Enter a integer {0}: '.format(i+1)))\n",
    "    if num % 2 != 0:\n",
    "        last_odd = num\n",
    "if last_odd is not None:\n",
    "    print(\"The last odd number entered is: \", last_odd)\n",
    "else:\n",
    "    print(\"No odd numbers were entered.\")"
   ]
  },
  {
   "cell_type": "code",
   "execution_count": 26,
   "metadata": {},
   "outputs": [
    {
     "name": "stdout",
     "output_type": "stream",
     "text": [
      "When 2 divided by 1 leaves a remainder = 2\n",
      "When 2 divided by 2 leaves a remainder = 1\n"
     ]
    }
   ],
   "source": [
    "# 5) program that asks the user to input an integer X and print two integer A, B such that X%A=B, using exhaustive enumeration\n",
    "\n",
    "X = int(input('Enter an integer : '))\n",
    "A = 0\n",
    "no_of_trails = 0\n",
    "while(A <= X):\n",
    "    A += 1\n",
    "    B=0\n",
    "    while(X/A != B and B <= X):\n",
    "        B += 1\n",
    "        no_of_trails += 1\n",
    "    if(X/A == B):\n",
    "        print('When',X,'divided by',A,'leaves a remainder =',B)"
   ]
  },
  {
   "cell_type": "code",
   "execution_count": 27,
   "metadata": {},
   "outputs": [
    {
     "name": "stdout",
     "output_type": "stream",
     "text": [
      "Sum of the all the digits of the entered 5-digit number is:  30\n"
     ]
    }
   ],
   "source": [
    "# 6) program that asks the user to input a 5-digit number, do a for loop to iterate through each digit and print the sum of those digits.\n",
    "\n",
    "ip = input('Enter a 5-digit number: ')\n",
    "\n",
    "if(len(ip) == 5):\n",
    "    num = int(ip)\n",
    "    sum = 0\n",
    "    while(num > 0):\n",
    "        sum += num % 10\n",
    "        num = num // 10\n",
    "    print('Sum of the all the digits of the entered 5-digit number is: ', sum)\n",
    "else:\n",
    "    print('Invalid number entered')"
   ]
  },
  {
   "cell_type": "code",
   "execution_count": 28,
   "metadata": {},
   "outputs": [
    {
     "name": "stdout",
     "output_type": "stream",
     "text": [
      "2\n",
      "4\n",
      "6\n",
      "8\n",
      "10\n"
     ]
    }
   ],
   "source": [
    "# 7) program to print all the positive even number that are less than 11.\n",
    "\n",
    "for num in range(1, 11):\n",
    "    if(num % 2 == 0):\n",
    "        print(num)"
   ]
  },
  {
   "cell_type": "code",
   "execution_count": 29,
   "metadata": {},
   "outputs": [
    {
     "name": "stdout",
     "output_type": "stream",
     "text": [
      "htnasarp\n"
     ]
    }
   ],
   "source": [
    "# 8) program that reverses a string that is entered by the user, by using a for loop.\n",
    "\n",
    "ip = input('Enter a string: ')\n",
    "reverse = ''\n",
    "for i in ip:\n",
    "    reverse = i + reverse\n",
    "print(reverse)"
   ]
  },
  {
   "cell_type": "code",
   "execution_count": 30,
   "metadata": {},
   "outputs": [
    {
     "name": "stdout",
     "output_type": "stream",
     "text": [
      "Informatics Informatics Informatics \n"
     ]
    }
   ],
   "source": [
    "# 9) By Using string operator '*' print the output of the string 'Informatics' 3 times.\n",
    "\n",
    "print('Informatics ' * 3)"
   ]
  },
  {
   "cell_type": "code",
   "execution_count": 31,
   "metadata": {},
   "outputs": [
    {
     "name": "stdout",
     "output_type": "stream",
     "text": [
      "0\n",
      "5\n",
      "10\n",
      "15\n",
      "20\n",
      "25\n",
      "30\n",
      "35\n",
      "40\n",
      "45\n",
      "50\n",
      "55\n",
      "60\n",
      "65\n",
      "70\n",
      "75\n",
      "80\n",
      "85\n",
      "90\n",
      "95\n",
      "100\n"
     ]
    }
   ],
   "source": [
    "# 10) program to print output of all numbers (from 0 to 100) that are divisible by 5.\n",
    "\n",
    "for i in range(101):\n",
    "    if(i % 5 == 0):\n",
    "        print(i)"
   ]
  },
  {
   "cell_type": "code",
   "execution_count": 32,
   "metadata": {},
   "outputs": [
    {
     "name": "stdout",
     "output_type": "stream",
     "text": [
      "Positive num:  9\n"
     ]
    }
   ],
   "source": [
    "# 11) program to ask the user to input a negative number and output the absolute value of it using a function i.e. not multiplying it with -1.\n",
    "\n",
    "num = int(input('Enter a negative num: '))\n",
    "print('Positive num: ', abs(num))"
   ]
  },
  {
   "cell_type": "code",
   "execution_count": 33,
   "metadata": {},
   "outputs": [
    {
     "name": "stdout",
     "output_type": "stream",
     "text": [
      "The number 99 is 1 number(s) close to 100 \n"
     ]
    }
   ],
   "source": [
    "# 12) program to print the output of a number that's divisible by 3 and is as close to 100 as possible. Use exhaustive enumeration.\n",
    "\n",
    "num = 0\n",
    "no_of_trails = 0\n",
    "closeTo = 100000\n",
    "for num in range(300):\n",
    "    num += 1\n",
    "    if num%3 == 0 :\n",
    "        diff=abs(num-100)\n",
    "        if diff < closeTo :\n",
    "            closeTo = diff\n",
    "            answer = num\n",
    "            no_of_trails += 1\n",
    "print('The number',answer,'is',closeTo,'number(s) close to 100 ')"
   ]
  },
  {
   "cell_type": "code",
   "execution_count": 34,
   "metadata": {},
   "outputs": [
    {
     "name": "stdout",
     "output_type": "stream",
     "text": [
      "Rounded value of  7.5  is  8\n"
     ]
    }
   ],
   "source": [
    "# 13) program to ask the user to input a float number and output the rounded value of it using related function.\n",
    "\n",
    "ip = float(input('Enter a float num: '))\n",
    "print('Rounded value of ', ip,' is ',round(ip))"
   ]
  },
  {
   "cell_type": "code",
   "execution_count": 35,
   "metadata": {},
   "outputs": [
    {
     "name": "stdout",
     "output_type": "stream",
     "text": [
      "Square root of 6 is close to 2.4494897959183675\n",
      "The difference between the square of the calculated value and the result is:  2.603082052132777e-07\n"
     ]
    }
   ],
   "source": [
    "# 14) program to write a function to calculate the square root of the provided parameter using the Newton-Raphson method. \n",
    "#     Print the difference between the square of the calculated value and the result of request.\n",
    "\n",
    "def func(number, epsilon = 0.0001):\n",
    "    value = number/2.0\n",
    "\n",
    "\n",
    "    while abs(value*value - number) >= epsilon:\n",
    "        value = value - (((value**2) - number)/(2*value))\n",
    "    \n",
    "    return value\n",
    "\n",
    "requested_number = int(input('Enter a number: '))\n",
    "square_root = func(requested_number)\n",
    "\n",
    "print('Square root of {0} is close to {1}'.format(requested_number, square_root))\n",
    "print('The difference between the square of the calculated value and the result is: ', square_root * square_root - requested_number)"
   ]
  }
 ],
 "metadata": {
  "kernelspec": {
   "display_name": "Python 3",
   "language": "python",
   "name": "python3"
  },
  "language_info": {
   "codemirror_mode": {
    "name": "ipython",
    "version": 3
   },
   "file_extension": ".py",
   "mimetype": "text/x-python",
   "name": "python",
   "nbconvert_exporter": "python",
   "pygments_lexer": "ipython3",
   "version": "3.11.5"
  },
  "orig_nbformat": 4
 },
 "nbformat": 4,
 "nbformat_minor": 2
}
