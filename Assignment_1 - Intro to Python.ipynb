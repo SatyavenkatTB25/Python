{
 "cells": [
  {
   "cell_type": "code",
   "execution_count": 41,
   "metadata": {},
   "outputs": [
    {
     "name": "stdout",
     "output_type": "stream",
     "text": [
      "The Area of the Rectangle with 10.5 and 5  =  52.5\n"
     ]
    }
   ],
   "source": [
    "# To Calculate the area of the rectangle with width and length:-\n",
    "\n",
    "length = 10.5\n",
    "width = 5\n",
    "\n",
    "# calculate the area:-\n",
    "Area = length * width\n",
    "\n",
    "print(\"The Area of the Rectangle with\", length, \"and\", width, \" = \", Area)"
   ]
  },
  {
   "cell_type": "code",
   "execution_count": 42,
   "metadata": {},
   "outputs": [
    {
     "name": "stdout",
     "output_type": "stream",
     "text": [
      "16\n"
     ]
    }
   ],
   "source": [
    "# Define a number:-\n",
    "n = 4\n",
    " \n",
    "# print the square value of the number:-\n",
    "square = n * n\n",
    " \n",
    "# printing square:-\n",
    "print(square)"
   ]
  },
  {
   "cell_type": "code",
   "execution_count": 43,
   "metadata": {},
   "outputs": [
    {
     "name": "stdout",
     "output_type": "stream",
     "text": [
      "<class 'float'>\n",
      "<class 'str'>\n",
      "<class 'int'>\n",
      "<class 'str'>\n"
     ]
    }
   ],
   "source": [
    " # To Check the data types of following objects:-\n",
    " print(type(9999.34))\n",
    " print(type(\"informatics\"))\n",
    " print(type(57687))\n",
    " print(type('b501'))\n",
    " "
   ]
  },
  {
   "cell_type": "code",
   "execution_count": 44,
   "metadata": {},
   "outputs": [
    {
     "name": "stdout",
     "output_type": "stream",
     "text": [
      " n is divisible by 3 \n"
     ]
    }
   ],
   "source": [
    "#To check whether 96321 is divisible by 3 or 4,or neither by them\n",
    "n=96321\n",
    "if n%3 == 0:\n",
    "    print(\" n is divisible by 3 \")\n",
    "elif n%4 == 0:\n",
    "    print(\"n is divisible by 4\")\n",
    "else:\n",
    "    print(\"n is neither divisible by 3 or 4\")"
   ]
  }
 ],
 "metadata": {
  "kernelspec": {
   "display_name": "Python 3",
   "language": "python",
   "name": "python3"
  },
  "language_info": {
   "codemirror_mode": {
    "name": "ipython",
    "version": 3
   },
   "file_extension": ".py",
   "mimetype": "text/x-python",
   "name": "python",
   "nbconvert_exporter": "python",
   "pygments_lexer": "ipython3",
   "version": "3.11.5"
  },
  "orig_nbformat": 4
 },
 "nbformat": 4,
 "nbformat_minor": 2
}
